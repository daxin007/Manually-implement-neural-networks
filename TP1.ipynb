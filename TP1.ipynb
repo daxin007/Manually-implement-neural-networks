{
 "cells": [
  {
   "cell_type": "markdown",
   "metadata": {
    "colab_type": "text",
    "id": "bOT3u0GZKWc8"
   },
   "source": [
    "# Réseau de neurones: les bases en numpy\n"
   ]
  },
  {
   "cell_type": "markdown",
   "metadata": {
    "colab_type": "text",
    "id": "Irgrskx6KWc-"
   },
   "source": [
    "Le but de ce TP1 est d'acquérir les bases nécessaires à la compréhension des réseaux de neurones à partir d'un modèle simple de type Softmax. La tâche d'apprentissage consiste à classifier les images (28 par 28 pixels) de la base MNIST (http://yann.lecun.com/exdb/mnist/) en 10 catégories représentant les chiffres 0-9.\n",
    "\n",
    "Le TP2 consistera à généraliser les concepts de ce TP1 à un réseau de neurones multi-couches."
   ]
  },
  {
   "cell_type": "markdown",
   "metadata": {
    "colab_type": "text",
    "id": "nlmi-culKWdA"
   },
   "source": [
    "## Téléchargement de la base d'entraînement"
   ]
  },
  {
   "cell_type": "code",
   "execution_count": 1,
   "metadata": {
    "colab": {},
    "colab_type": "code",
    "id": "B9Ekg9fkKWdD"
   },
   "outputs": [],
   "source": [
    "%matplotlib inline\n",
    "import os\n",
    "import numpy as np\n",
    "import matplotlib.pyplot as plt\n",
    "\n",
    "mnistfile=\"mnist.pkl.gz\"\n",
    "\n",
    "# If you need to download it : \n",
    "if(\"mnist.pkl.gz\" not in os.listdir(\".\")):\n",
    "    !wget http://deeplearning.net/data/mnist/mnist.pkl.gz"
   ]
  },
  {
   "cell_type": "markdown",
   "metadata": {
    "colab_type": "text",
    "id": "9Z209vjgKWdI"
   },
   "source": [
    "## Chargement de la base en mémoire"
   ]
  },
  {
   "cell_type": "code",
   "execution_count": 2,
   "metadata": {
    "colab": {
     "base_uri": "https://localhost:8080/",
     "height": 317
    },
    "colab_type": "code",
    "executionInfo": {
     "elapsed": 758,
     "status": "error",
     "timestamp": 1539027170049,
     "user": {
      "displayName": "Xihui Wang",
      "photoUrl": "",
      "userId": "09445164112052208872"
     },
     "user_tz": -120
    },
    "id": "mpsZNRC7KWdJ",
    "outputId": "62717275-e711-44e0-eafa-990e62d7a244"
   },
   "outputs": [],
   "source": [
    "import dataset_loader\n",
    "train_set, valid_set, test_set = dataset_loader.load_mnist(mnistfile)"
   ]
  },
  {
   "cell_type": "markdown",
   "metadata": {
    "colab_type": "text",
    "id": "6omnBvnBKWdM"
   },
   "source": [
    "Vous pouvez visualiser les différents caractères en changeant l'identifiant de l'image"
   ]
  },
  {
   "cell_type": "code",
   "execution_count": 3,
   "metadata": {
    "colab": {},
    "colab_type": "code",
    "id": "_vaeu6ApKWdN"
   },
   "outputs": [
    {
     "name": "stdout",
     "output_type": "stream",
     "text": [
      "label: 5\n"
     ]
    },
    {
     "data": {
      "image/png": "[encoded data removed]",
      "text/plain": [
       "<Figure size 432x288 with 1 Axes>"
      ]
     },
     "metadata": {},
     "output_type": "display_data"
    }
   ],
   "source": [
    "img_id = 900\n",
    "plt.imshow(train_set[0][img_id].reshape(28,28),cmap='Greys')\n",
    "print(\"label: \" + str(train_set[1][img_id]))"
   ]
  },
  {
   "cell_type": "markdown",
   "metadata": {
    "colab_type": "text",
    "id": "GNRQzPZ3KWdP"
   },
   "source": [
    "**Question:** Donner les caractéristiques de la base d'apprentissage train_set"
   ]
  },
  {
   "cell_type": "code",
   "execution_count": 4,
   "metadata": {
    "colab": {},
    "colab_type": "code",
    "id": "Agfwh-s8KWdQ"
   },
   "outputs": [],
   "source": [
    "def getDimDataset(train_set):\n",
    "    n_training =len(train_set[0])\n",
    "    n_feature = len(train_set[0][0])\n",
    "    n_label = len(set(train_set[1]))\n",
    "    return n_training, n_feature, n_label"
   ]
  },
  {
   "cell_type": "code",
   "execution_count": 5,
   "metadata": {
    "colab": {},
    "colab_type": "code",
    "id": "NeDu0nO6KWdT"
   },
   "outputs": [
    {
     "data": {
      "text/plain": [
       "(50000, 784, 10)"
      ]
     },
     "execution_count": 5,
     "metadata": {},
     "output_type": "execute_result"
    }
   ],
   "source": [
    "getDimDataset(train_set)"
   ]
  },
  {
   "cell_type": "markdown",
   "metadata": {
    "colab_type": "text",
    "id": "MvZIFXNNKWdV"
   },
   "source": [
    "## Création du modèle\n",
    "\n",
    "Nous allons d'abord créer une couche linéaire, soit une transformation linéaire. La vraie difficulté réside dans la manipulation de matrices de ne pas se mélanger dans les dimensions. \n",
    "\n",
    "Pour l'implémentation, nous allons considérer explicitement le terme de biais. Ainsi, une couche linéaire se définit comme la tranformation linéaire: \n",
    "$$\n",
    "\\mathbf{y} = \\mathbf{W}\\mathbf{x}+ \\mathbf{b}\n",
    "$$\n",
    "\n",
    "Notons *n_in* et *n_out* respectivement les dimensions de $\\mathbf{x}$ et $\\mathbf{y}$. \n",
    "\n",
    "**Questions:**\n",
    "- écrire les dimensions de W et b\n",
    "- Coder la fonction d'init. suivante, l'init. est aléatoire et gaussienne, comme dans le cours. La fonction retourne W et b. \n"
   ]
  },
  {
   "cell_type": "code",
   "execution_count": 6,
   "metadata": {
    "colab": {},
    "colab_type": "code",
    "id": "zaHamy9hKWdX"
   },
   "outputs": [],
   "source": [
    "def init(n_in,n_out):\n",
    "    W = np.random.normal(0, 1/np.sqrt(n_in), (n_out, n_in))\n",
    "    b = np.random.normal(0, 1/np.sqrt(n_in), (n_out, 1))\n",
    "    return W,b"
   ]
  },
  {
   "cell_type": "markdown",
   "metadata": {
    "colab_type": "text",
    "id": "79A7J5vYKWdZ"
   },
   "source": [
    "**Test:** Même si cela ne sera pas redit, on vérifie toujours les dimensions de ce que l'on crée, et transforme. Dit autrement on fait des tests intermédiaires. En machine learning, comme en programmation, c'est incontournable. \n",
    "Pour cela créer, une couche de tailles d'entrée et de sortie égales à 5 et 3. \n"
   ]
  },
  {
   "cell_type": "code",
   "execution_count": 7,
   "metadata": {
    "colab": {},
    "colab_type": "code",
    "id": "Z4MGDedaKWda"
   },
   "outputs": [
    {
     "data": {
      "text/plain": [
       "(array([[ 0.2577955 , -0.41016647, -0.40054842,  0.51035496,  0.13055124],\n",
       "        [-0.61858117,  0.16144952,  0.52923786, -0.5068859 , -0.16788752],\n",
       "        [-0.24636775, -0.85684466, -0.29560057, -0.07230365,  0.55960397]]),\n",
       " array([[ 0.05772846],\n",
       "        [ 0.15923661],\n",
       "        [-0.33854139]]))"
      ]
     },
     "execution_count": 7,
     "metadata": {},
     "output_type": "execute_result"
    }
   ],
   "source": [
    "n=init(5,3)\n",
    "n"
   ]
  },
  {
   "cell_type": "markdown",
   "metadata": {
    "colab_type": "text",
    "id": "Whj07Lr5KWdc"
   },
   "source": [
    "**Question :** Donner les dimensions de W et b ainsi que le nombre total de paramètres du modèle"
   ]
  },
  {
   "cell_type": "code",
   "execution_count": 8,
   "metadata": {
    "colab": {},
    "colab_type": "code",
    "id": "GrvS_bs1KWdd"
   },
   "outputs": [],
   "source": [
    "def printInfo(W,b):\n",
    "    print(\"W dimensions: \" + str(W.shape))\n",
    "    print(\"b dimensions: \" + str(b.shape))\n",
    "    print(\"Number of parameters: \" + str(np.size(W) + np.size(b)))"
   ]
  },
  {
   "cell_type": "code",
   "execution_count": 9,
   "metadata": {},
   "outputs": [
    {
     "name": "stdout",
     "output_type": "stream",
     "text": [
      "W dimensions: (3, 5)\n",
      "b dimensions: (3, 1)\n",
      "Number of parameters: 18\n"
     ]
    }
   ],
   "source": [
    "printInfo(n[0],n[1])"
   ]
  },
  {
   "cell_type": "markdown",
   "metadata": {
    "colab_type": "text",
    "id": "euHVEX4iKWdf"
   },
   "source": [
    "**Question:** Implémenter la fonction forward tel que $$y_j = \\sum_{i \\rightarrow j} W_{ij} x_i + b_j$$ où $x_i$ est un pixel de l'image, $W_{ij}$ est la valeur associée à l'arête reliant les unités $i$ et $j$ et $b_j$ est le biais associé à l'unité $j$"
   ]
  },
  {
   "cell_type": "code",
   "execution_count": 10,
   "metadata": {
    "colab": {},
    "colab_type": "code",
    "id": "emgTpnkOKWdf"
   },
   "outputs": [],
   "source": [
    "def forward(W,b,X):\n",
    "    \"\"\"\n",
    "        Perform the forward propagation\n",
    "        :param W: the weights (n_output x n_input)\n",
    "        :param b: the bias (n_output * 1)\n",
    "        :param X: the input (minibatch_size x n_input)\n",
    "        :type W: ndarray\n",
    "        :type B: ndarray\n",
    "        :type X: ndarray\n",
    "        :return: the transformed values (n_output x minibatch_size)\n",
    "        :rtype: ndarray\n",
    "    \"\"\"\n",
    "    return np.dot(W, X.T) + b"
   ]
  },
  {
   "cell_type": "markdown",
   "metadata": {
    "colab_type": "text",
    "id": "gITyvKlJKWdh"
   },
   "source": [
    "**Question:** Implémenter la fonction softmax $$ \\sigma_i = \\frac{\\exp{a_i}}{\\sum_k \\exp{a_k}}$$"
   ]
  },
  {
   "cell_type": "code",
   "execution_count": 11,
   "metadata": {
    "colab": {},
    "colab_type": "code",
    "id": "4RP7zNrrKWdh"
   },
   "outputs": [],
   "source": [
    "def softmax(z):\n",
    "    \"\"\"\n",
    "        Perform the softmax transformation to the pre-activation values\n",
    "        :param a: the pre-activation values\n",
    "        :type a: ndarray\n",
    "        :return: the activation values\n",
    "        :rtype: ndarray\n",
    "    \"\"\"\n",
    "    a=np.max(z)\n",
    "    #print(a)\n",
    "    s=0\n",
    "    for i in z:\n",
    "        s+=np.exp(i-a)\n",
    "    z = [np.exp(i-a)/s for i in z]\n",
    "    return np.array(z)"
   ]
  },
  {
   "cell_type": "markdown",
   "metadata": {
    "colab_type": "text",
    "id": "oeBggY-AKWdj"
   },
   "source": [
    "**Question:** Vérifier que votre implémentation de softmax soit numériquement stable "
   ]
  },
  {
   "cell_type": "code",
   "execution_count": 12,
   "metadata": {
    "colab": {},
    "colab_type": "code",
    "id": "6dj3H212KWdj"
   },
   "outputs": [
    {
     "name": "stdout",
     "output_type": "stream",
     "text": [
      "[1. 0. 0.]\n"
     ]
    }
   ],
   "source": [
    "# Example for testing the numerical stability of softmax\n",
    "# It should return [1., 0. ,0.], not [nan, 0., 0.]\n",
    "z = [10000,1,100]\n",
    "print(softmax(z))"
   ]
  },
  {
   "cell_type": "markdown",
   "metadata": {
    "colab_type": "text",
    "id": "xFXYu0gtKWdl"
   },
   "source": [
    "**Question:** Si le softmax s'avère instable, comment le rendre stable ? Proposer une implémentation stable du softmax. "
   ]
  },
  {
   "cell_type": "markdown",
   "metadata": {
    "colab_type": "text",
    "id": "4BKLEUkNKWdo"
   },
   "source": [
    "**Question:** Implémenter le calcul du gradient de l'erreur par rapport à $a_i$:\n",
    "$$\\delta a_i = \\sigma_i - 1_{i=l}$$\n",
    "où $l$ est l'étiquette associée à la donnée courante."
   ]
  },
  {
   "cell_type": "code",
   "execution_count": 13,
   "metadata": {
    "colab": {},
    "colab_type": "code",
    "id": "JNKTNt3gKWdp"
   },
   "outputs": [],
   "source": [
    "def gradient_out(out, one_hot_batch):\n",
    "    \"\"\"\n",
    "    compute the gradient w.r.t. the pre-activation values of the softmax z_i\n",
    "    :param out: the softmax values (n_output x minibatch_size)\n",
    "    :type out: ndarray\n",
    "    :param one_hot_batch: the one-hot representation of the labels (n_output x minibatch_size)\n",
    "    :type one_hot_batch: ndarray\n",
    "    :return: the gradient w.r.t. z (n_output x minibatch_size)\n",
    "    :rtype: ndarray\n",
    "    \"\"\"\n",
    "    return out - one_hot_batch"
   ]
  },
  {
   "cell_type": "markdown",
   "metadata": {
    "colab_type": "text",
    "id": "4-WxLD1nKWds"
   },
   "source": [
    "**Question:** Implémenter la fonction du calcul de gradient par rapport aux paramètres: $$\\delta W_{ij} = \\delta a_j x_i$$  $$\\delta b_{j} = \\delta a_j$$ où $\\delta W_{ij}$ est la composante du gradient associée à l'arête reliant les unités $i$ et $j$, $\\delta b_{j}$ est la composante du gradient associée au bias de l'unité $j$, $\\delta z_j$ est le gradient de l'erreur par rapport à l'unité $j$ et $x_i$ est la valeur d'activation de l'unité $i$."
   ]
  },
  {
   "cell_type": "code",
   "execution_count": 14,
   "metadata": {
    "colab": {},
    "colab_type": "code",
    "id": "hDB7Vc7nKWds"
   },
   "outputs": [],
   "source": [
    "def gradient(derror, X):\n",
    "    \"\"\"\n",
    "        Compute the gradient w.r.t. the parameters\n",
    "        :param derror: the gradient w.r.t. z (n_output x minibatch_size)\n",
    "        :param X: the input (minibatch_size x n_input)\n",
    "        :type derror: ndarray\n",
    "        :type minibatch: ndarray\n",
    "        :return: the gradient w.r.t. the parameters (n_output x n_input), (n_output, 1)\n",
    "        :rtype: ndarray, ndarray\n",
    "    \"\"\"\n",
    "    minibatch_size = X.shape[0]\n",
    "    n_out = derror.shape[0]\n",
    "    n_in = X.shape[1]\n",
    "    grad_w = np.zeros((n_out, n_in))\n",
    "    grad_b = np.zeros((n_out, 1))\n",
    "    \n",
    "    for i in range(minibatch_size):\n",
    "        grad_b += np.atleast_2d(derror[:, i]).T\n",
    "        grad_w += np.outer(derror[:, i], X[i, :])\n",
    "    \n",
    "    grad_b /= minibatch_size\n",
    "    grad_w /= minibatch_size\n",
    "\n",
    "    return grad_w,grad_b"
   ]
  },
  {
   "cell_type": "markdown",
   "metadata": {
    "colab_type": "text",
    "id": "hBSv8LIlKWdu"
   },
   "source": [
    "**Question:** Implémenter la fonction de mise à jour des paramètres $$\\theta = \\theta - \\eta \\delta \\theta$$ où $\\theta$ est un paramètre du modèle et $\\delta \\theta$ la composante du gradient associée à $\\theta$."
   ]
  },
  {
   "cell_type": "code",
   "execution_count": 15,
   "metadata": {
    "colab": {},
    "colab_type": "code",
    "id": "RnPLmd-iKWdv"
   },
   "outputs": [],
   "source": [
    "def update(eta, W, b, grad_w, grad_b):\n",
    "    \"\"\"\n",
    "        Update the parameters with an update rule\n",
    "        :param eta: the step-size\n",
    "        :param W: the weights\n",
    "        :param b: the bias\n",
    "        :param grad_w: the gradient w.r.t. the weights\n",
    "        :param grad_b: the gradient w.r.t. the bias\n",
    "        :type eta: float\n",
    "        :type W: ndarray\n",
    "        :type b: ndarray\n",
    "        :type grad_w: ndarray\n",
    "        :type grad_b: ndarray\n",
    "        :return: the updated parameters\n",
    "        :rtype: ndarray, ndarray\n",
    "    \"\"\"\n",
    "    W = W - eta * grad_w\n",
    "    b = b - eta * grad_b\n",
    "    return W, b"
   ]
  },
  {
   "cell_type": "markdown",
   "metadata": {
    "colab_type": "text",
    "id": "hzcMLu1KKWdx"
   },
   "source": [
    "## Algorithme d'apprentissage \n",
    "\n",
    "On a tout ce qu'il faut pour mettre en oeuvre l'apprentissage d'un modèle simple. Le modèle est simplement une couche neuronale de sortie, sans couche cachée. \n",
    "\n",
    "L'algorithme se déroule en 2 temps, tout d'abord la préparation: \n",
    "- init. du modèle\n",
    "- préparation des données et des variables permettant de stocker l'historique d'apprentissage\n",
    "- init. des paramètres de la SGD\n",
    "- définir le nombre d'époque comme une variable\n",
    "\n",
    "Puis vient la boucle d'apprentissage qui pour chaque époque effectue pour chaque exemple d'apprentissage : \n",
    "- inférence du modèle sur l'exemple d'apprentissage \n",
    "- calcul de la contribution de l'exemple à la  fonction objectif, et également au taux d'erreur de classification\n",
    "- Calcul du gradient de sortie\n",
    "- Mise à jour du modèle\n",
    "\n",
    "**Question:** Implémenter l'apprentissage du modèle"
   ]
  },
  {
   "cell_type": "code",
   "execution_count": 16,
   "metadata": {},
   "outputs": [],
   "source": [
    "def one_hot_labels(labels, n_labels):\n",
    "    one_hot=np.zeros((n_labels, labels.size))\n",
    "    one_hot[labels, np.arange(labels.size)]=1 # tres utile\n",
    "    return one_hot"
   ]
  },
  {
   "cell_type": "code",
   "execution_count": 17,
   "metadata": {},
   "outputs": [],
   "source": [
    "def error_rate(outputs, y):\n",
    "    n_labels = y.shape[0]\n",
    "    n_samples = y.shape[1]\n",
    "    p_y = np.zeros(y.shape)\n",
    "    p_y[np.argmax(outputs, axis=0), np.arange(n_samples)] = 1\n",
    "    n_correct = np.sum(p_y * y)\n",
    "    return 1 - n_correct / n_samples"
   ]
  },
  {
   "cell_type": "code",
   "execution_count": 18,
   "metadata": {},
   "outputs": [],
   "source": [
    "def log_loss(outputs, y):\n",
    "    return -np.sum(np.log(outputs)*y)/outputs.shape[1]"
   ]
  },
  {
   "cell_type": "code",
   "execution_count": 19,
   "metadata": {
    "colab": {},
    "colab_type": "code",
    "id": "2y1-MKzmKWdy"
   },
   "outputs": [],
   "source": [
    "def train_nnet(train_set, valid_set=[], nb_epoch=3, minibatch_size=128, eta=1):\n",
    "\n",
    "    n_training, n_feature, n_label = getDimDataset(train_set)\n",
    "    W, b = init(n_feature, n_label)\n",
    "    iteration_counter = 0\n",
    "    logloss_train = []\n",
    "    error_train = []\n",
    "    logloss_valid = []\n",
    "    error_valid = []\n",
    "\n",
    "    for i_epoch in range(nb_epoch):\n",
    "        print(\"Training model (epoch = {}/{})\".format(i_epoch+1, nb_epoch))\n",
    "        a=forward(W,b,train_set[0])\n",
    "        outputs_train = softmax(a)\n",
    "        labels_train = one_hot_labels(train_set[1], 10)\n",
    "        logloss_train.append(log_loss(outputs_train, labels_train))\n",
    "        error_train.append(error_rate(outputs_train, labels_train))\n",
    "        print(\" - classification error rate for training = {:.2f}%\".format(error_rate(outputs_train, labels_train) * 100))\n",
    "        if valid_set:\n",
    "                outputs_valid = softmax(forward(W, b, valid_set[0]))\n",
    "                labels_valid = one_hot_labels(valid_set[1], n_label)\n",
    "                logloss_valid.append(log_loss(outputs_valid, labels_valid))\n",
    "                error_valid.append(error_rate(outputs_valid, labels_valid))\n",
    "        \n",
    "        for i_batch in range(0, n_training, minibatch_size):\n",
    "            # update\n",
    "            iteration_counter += 1\n",
    "            batches_index = np.arange(i_batch, i_batch + minibatch_size) % n_training\n",
    "            X = train_set[0][batches_index, :]\n",
    "            y = train_set[1][batches_index]\n",
    "            y_one_hot = one_hot_labels(y, n_label)\n",
    "            outputs = softmax(forward(W, b, X))\n",
    "            grad_z = gradient_out(outputs, y_one_hot)\n",
    "            grad_w, grad_b = gradient(grad_z, X)\n",
    "            W, b = update(eta, W, b, grad_w, grad_b)\n",
    "\n",
    "    return W, b, logloss_train, error_train, logloss_valid, error_valid\n"
   ]
  },
  {
   "cell_type": "code",
   "execution_count": 20,
   "metadata": {},
   "outputs": [
    {
     "name": "stdout",
     "output_type": "stream",
     "text": [
      "Training model (epoch = 1/30)\n",
      " - classification error rate for training = 92.83%\n",
      "Training model (epoch = 2/30)\n",
      " - classification error rate for training = 9.18%\n",
      "Training model (epoch = 3/30)\n",
      " - classification error rate for training = 8.45%\n",
      "Training model (epoch = 4/30)\n",
      " - classification error rate for training = 8.02%\n",
      "Training model (epoch = 5/30)\n",
      " - classification error rate for training = 7.82%\n",
      "Training model (epoch = 6/30)\n",
      " - classification error rate for training = 7.69%\n",
      "Training model (epoch = 7/30)\n",
      " - classification error rate for training = 7.58%\n",
      "Training model (epoch = 8/30)\n",
      " - classification error rate for training = 7.51%\n",
      "Training model (epoch = 9/30)\n",
      " - classification error rate for training = 7.43%\n",
      "Training model (epoch = 10/30)\n",
      " - classification error rate for training = 7.37%\n",
      "Training model (epoch = 11/30)\n",
      " - classification error rate for training = 7.32%\n",
      "Training model (epoch = 12/30)\n",
      " - classification error rate for training = 7.27%\n",
      "Training model (epoch = 13/30)\n",
      " - classification error rate for training = 7.22%\n",
      "Training model (epoch = 14/30)\n",
      " - classification error rate for training = 7.21%\n",
      "Training model (epoch = 15/30)\n",
      " - classification error rate for training = 7.16%\n",
      "Training model (epoch = 16/30)\n",
      " - classification error rate for training = 7.13%\n",
      "Training model (epoch = 17/30)\n",
      " - classification error rate for training = 7.09%\n",
      "Training model (epoch = 18/30)\n",
      " - classification error rate for training = 7.08%\n",
      "Training model (epoch = 19/30)\n",
      " - classification error rate for training = 7.05%\n",
      "Training model (epoch = 20/30)\n",
      " - classification error rate for training = 7.01%\n",
      "Training model (epoch = 21/30)\n",
      " - classification error rate for training = 6.98%\n",
      "Training model (epoch = 22/30)\n",
      " - classification error rate for training = 6.96%\n",
      "Training model (epoch = 23/30)\n",
      " - classification error rate for training = 6.93%\n",
      "Training model (epoch = 24/30)\n",
      " - classification error rate for training = 6.91%\n",
      "Training model (epoch = 25/30)\n",
      " - classification error rate for training = 6.90%\n",
      "Training model (epoch = 26/30)\n",
      " - classification error rate for training = 6.89%\n",
      "Training model (epoch = 27/30)\n",
      " - classification error rate for training = 6.87%\n",
      "Training model (epoch = 28/30)\n",
      " - classification error rate for training = 6.86%\n",
      "Training model (epoch = 29/30)\n",
      " - classification error rate for training = 6.85%\n",
      "Training model (epoch = 30/30)\n",
      " - classification error rate for training = 6.82%\n"
     ]
    }
   ],
   "source": [
    "W, b, logloss_train, error_train, logloss_valid, error_valid = train_nnet(train_set, valid_set, 30, 256, 1)"
   ]
  },
  {
   "cell_type": "markdown",
   "metadata": {
    "colab_type": "text",
    "id": "iZEhLDilKWd0"
   },
   "source": [
    "**Question:** Si vous stockez correctement les informations, vous pouvez tracer l'évolution du taux d'erreur et de la fonction objectif au cours du temps. Cette étape est loin d'être illustrative, elle est indispensable pour vérifier si l'apprentissage se passe bien. \n",
    "\n"
   ]
  },
  {
   "cell_type": "markdown",
   "metadata": {
    "colab_type": "text",
    "id": "CwFi9mTCKWd4"
   },
   "source": [
    "**Question:** Inclure dans votre code, le calcul du taux d'erreur et de la fonction objectif sur les données de validation (cela doit faire l'objet du fonction à part). Représenter les évolutions également et les comparer avec celles observées sur les données d'apprentissage. "
   ]
  },
  {
   "cell_type": "code",
   "execution_count": 21,
   "metadata": {
    "colab": {},
    "colab_type": "code",
    "id": "sZNcuF2kKWd5"
   },
   "outputs": [
    {
     "data": {
      "image/png": "[encoded data removed]",
      "text/plain": [
       "<Figure size 432x288 with 1 Axes>"
      ]
     },
     "metadata": {},
     "output_type": "display_data"
    },
    {
     "data": {
      "image/png": "[encoded data removed]",
      "text/plain": [
       "<Figure size 432x288 with 1 Axes>"
      ]
     },
     "metadata": {},
     "output_type": "display_data"
    }
   ],
   "source": [
    "plt.plot(logloss_train, \"r\", label='train_set')\n",
    "plt.plot(logloss_valid, \"g\", label='valid_set')\n",
    "plt.title(\"Log-loss\")\n",
    "plt.legend()\n",
    "plt.ylim((0, 0.8))\n",
    "plt.show()\n",
    "\n",
    "plt.plot(error_train, \"r\", label='train_set')\n",
    "plt.plot(error_valid, \"g\", label='valid_set')\n",
    "plt.title(\"Error rate\")\n",
    "plt.legend()\n",
    "plt.ylim((0, 0.2))\n",
    "plt.show()"
   ]
  },
  {
   "cell_type": "code",
   "execution_count": 22,
   "metadata": {
    "colab": {},
    "colab_type": "code",
    "id": "sZNcuF2kKWd5"
   },
   "outputs": [
    {
     "name": "stdout",
     "output_type": "stream",
     "text": [
      "Test results:\n",
      "Log-loss = 0.274\n",
      "Error rate = 7.67%\n"
     ]
    }
   ],
   "source": [
    "outputs_test = softmax(forward(W, b, test_set[0]))\n",
    "labels_test = one_hot_labels(test_set[1], 10)\n",
    "print(\"Test results:\")\n",
    "print(\"Log-loss = {:.3f}\".format(log_loss(outputs_test, labels_test)))\n",
    "print(\"Error rate = {:.2f}%\".format(error_rate(outputs_test, labels_test) * 100))"
   ]
  },
  {
   "cell_type": "markdown",
   "metadata": {
    "colab_type": "text",
    "id": "FzzIlowPKWd6"
   },
   "source": [
    "**Question:** Montrer, à l'aide d'une figure, l'effet du step-size (prendre $\\eta$=[0.01,0.1,1.0,10.]) sur les courbes d'apprentissage"
   ]
  },
  {
   "cell_type": "code",
   "execution_count": 23,
   "metadata": {
    "colab": {},
    "colab_type": "code",
    "id": "LadSNtxsKWd7"
   },
   "outputs": [
    {
     "name": "stdout",
     "output_type": "stream",
     "text": [
      "eta = 0.01\n",
      "Training model (epoch = 1/30)\n",
      " - classification error rate for training = 89.49%\n",
      "Training model (epoch = 2/30)\n",
      " - classification error rate for training = 22.10%\n",
      "Training model (epoch = 3/30)\n",
      " - classification error rate for training = 17.76%\n",
      "Training model (epoch = 4/30)\n",
      " - classification error rate for training = 16.14%\n",
      "Training model (epoch = 5/30)\n",
      " - classification error rate for training = 15.14%\n",
      "Training model (epoch = 6/30)\n",
      " - classification error rate for training = 14.47%\n",
      "Training model (epoch = 7/30)\n",
      " - classification error rate for training = 13.90%\n",
      "Training model (epoch = 8/30)\n",
      " - classification error rate for training = 13.52%\n",
      "Training model (epoch = 9/30)\n",
      " - classification error rate for training = 13.17%\n",
      "Training model (epoch = 10/30)\n",
      " - classification error rate for training = 12.92%\n",
      "Training model (epoch = 11/30)\n",
      " - classification error rate for training = 12.70%\n",
      "Training model (epoch = 12/30)\n",
      " - classification error rate for training = 12.45%\n",
      "Training model (epoch = 13/30)\n",
      " - classification error rate for training = 12.25%\n",
      "Training model (epoch = 14/30)\n",
      " - classification error rate for training = 12.06%\n",
      "Training model (epoch = 15/30)\n",
      " - classification error rate for training = 11.91%\n",
      "Training model (epoch = 16/30)\n",
      " - classification error rate for training = 11.72%\n",
      "Training model (epoch = 17/30)\n",
      " - classification error rate for training = 11.61%\n",
      "Training model (epoch = 18/30)\n",
      " - classification error rate for training = 11.49%\n",
      "Training model (epoch = 19/30)\n",
      " - classification error rate for training = 11.40%\n",
      "Training model (epoch = 20/30)\n",
      " - classification error rate for training = 11.31%\n",
      "Training model (epoch = 21/30)\n",
      " - classification error rate for training = 11.21%\n",
      "Training model (epoch = 22/30)\n",
      " - classification error rate for training = 11.11%\n",
      "Training model (epoch = 23/30)\n",
      " - classification error rate for training = 11.01%\n",
      "Training model (epoch = 24/30)\n",
      " - classification error rate for training = 10.95%\n",
      "Training model (epoch = 25/30)\n",
      " - classification error rate for training = 10.89%\n",
      "Training model (epoch = 26/30)\n",
      " - classification error rate for training = 10.80%\n",
      "Training model (epoch = 27/30)\n",
      " - classification error rate for training = 10.74%\n",
      "Training model (epoch = 28/30)\n",
      " - classification error rate for training = 10.66%\n",
      "Training model (epoch = 29/30)\n",
      " - classification error rate for training = 10.61%\n",
      "Training model (epoch = 30/30)\n",
      " - classification error rate for training = 10.56%\n",
      "eta = 0.1\n",
      "Training model (epoch = 1/30)\n",
      " - classification error rate for training = 91.21%\n",
      "Training model (epoch = 2/30)\n",
      " - classification error rate for training = 12.70%\n",
      "Training model (epoch = 3/30)\n",
      " - classification error rate for training = 11.20%\n",
      "Training model (epoch = 4/30)\n",
      " - classification error rate for training = 10.51%\n",
      "Training model (epoch = 5/30)\n",
      " - classification error rate for training = 10.03%\n",
      "Training model (epoch = 6/30)\n",
      " - classification error rate for training = 9.72%\n",
      "Training model (epoch = 7/30)\n",
      " - classification error rate for training = 9.52%\n",
      "Training model (epoch = 8/30)\n",
      " - classification error rate for training = 9.28%\n",
      "Training model (epoch = 9/30)\n",
      " - classification error rate for training = 9.12%\n",
      "Training model (epoch = 10/30)\n",
      " - classification error rate for training = 8.98%\n",
      "Training model (epoch = 11/30)\n",
      " - classification error rate for training = 8.85%\n",
      "Training model (epoch = 12/30)\n",
      " - classification error rate for training = 8.70%\n",
      "Training model (epoch = 13/30)\n",
      " - classification error rate for training = 8.61%\n",
      "Training model (epoch = 14/30)\n",
      " - classification error rate for training = 8.53%\n",
      "Training model (epoch = 15/30)\n",
      " - classification error rate for training = 8.49%\n",
      "Training model (epoch = 16/30)\n",
      " - classification error rate for training = 8.41%\n",
      "Training model (epoch = 17/30)\n",
      " - classification error rate for training = 8.36%\n",
      "Training model (epoch = 18/30)\n",
      " - classification error rate for training = 8.28%\n",
      "Training model (epoch = 19/30)\n",
      " - classification error rate for training = 8.23%\n",
      "Training model (epoch = 20/30)\n",
      " - classification error rate for training = 8.20%\n",
      "Training model (epoch = 21/30)\n",
      " - classification error rate for training = 8.13%\n",
      "Training model (epoch = 22/30)\n",
      " - classification error rate for training = 8.11%\n",
      "Training model (epoch = 23/30)\n",
      " - classification error rate for training = 8.06%\n",
      "Training model (epoch = 24/30)\n",
      " - classification error rate for training = 8.03%\n",
      "Training model (epoch = 25/30)\n",
      " - classification error rate for training = 8.00%\n",
      "Training model (epoch = 26/30)\n",
      " - classification error rate for training = 7.97%\n",
      "Training model (epoch = 27/30)\n",
      " - classification error rate for training = 7.94%\n",
      "Training model (epoch = 28/30)\n",
      " - classification error rate for training = 7.93%\n",
      "Training model (epoch = 29/30)\n",
      " - classification error rate for training = 7.91%\n",
      "Training model (epoch = 30/30)\n",
      " - classification error rate for training = 7.89%\n",
      "eta = 1.0\n",
      "Training model (epoch = 1/30)\n",
      " - classification error rate for training = 89.30%\n",
      "Training model (epoch = 2/30)\n",
      " - classification error rate for training = 9.19%\n",
      "Training model (epoch = 3/30)\n",
      " - classification error rate for training = 8.46%\n",
      "Training model (epoch = 4/30)\n",
      " - classification error rate for training = 8.05%\n",
      "Training model (epoch = 5/30)\n",
      " - classification error rate for training = 7.84%\n",
      "Training model (epoch = 6/30)\n",
      " - classification error rate for training = 7.71%\n",
      "Training model (epoch = 7/30)\n",
      " - classification error rate for training = 7.58%\n",
      "Training model (epoch = 8/30)\n",
      " - classification error rate for training = 7.50%\n",
      "Training model (epoch = 9/30)\n",
      " - classification error rate for training = 7.42%\n",
      "Training model (epoch = 10/30)\n",
      " - classification error rate for training = 7.35%\n",
      "Training model (epoch = 11/30)\n",
      " - classification error rate for training = 7.29%\n",
      "Training model (epoch = 12/30)\n",
      " - classification error rate for training = 7.26%\n",
      "Training model (epoch = 13/30)\n",
      " - classification error rate for training = 7.23%\n",
      "Training model (epoch = 14/30)\n",
      " - classification error rate for training = 7.18%\n",
      "Training model (epoch = 15/30)\n",
      " - classification error rate for training = 7.17%\n",
      "Training model (epoch = 16/30)\n",
      " - classification error rate for training = 7.13%\n",
      "Training model (epoch = 17/30)\n",
      " - classification error rate for training = 7.13%\n",
      "Training model (epoch = 18/30)\n",
      " - classification error rate for training = 7.08%\n",
      "Training model (epoch = 19/30)\n",
      " - classification error rate for training = 7.05%\n",
      "Training model (epoch = 20/30)\n",
      " - classification error rate for training = 7.03%\n",
      "Training model (epoch = 21/30)\n",
      " - classification error rate for training = 7.00%\n",
      "Training model (epoch = 22/30)\n",
      " - classification error rate for training = 6.97%\n",
      "Training model (epoch = 23/30)\n",
      " - classification error rate for training = 6.95%\n",
      "Training model (epoch = 24/30)\n",
      " - classification error rate for training = 6.91%\n",
      "Training model (epoch = 25/30)\n",
      " - classification error rate for training = 6.89%\n",
      "Training model (epoch = 26/30)\n",
      " - classification error rate for training = 6.87%\n",
      "Training model (epoch = 27/30)\n",
      " - classification error rate for training = 6.85%\n",
      "Training model (epoch = 28/30)\n",
      " - classification error rate for training = 6.84%\n",
      "Training model (epoch = 29/30)\n",
      " - classification error rate for training = 6.84%\n",
      "Training model (epoch = 30/30)\n",
      " - classification error rate for training = 6.82%\n",
      "eta = 10.0\n",
      "Training model (epoch = 1/30)\n",
      " - classification error rate for training = 93.35%\n",
      "Training model (epoch = 2/30)\n",
      " - classification error rate for training = 11.02%\n",
      "Training model (epoch = 3/30)\n",
      " - classification error rate for training = 26.77%\n",
      "Training model (epoch = 4/30)\n",
      " - classification error rate for training = 24.81%\n",
      "Training model (epoch = 5/30)\n",
      " - classification error rate for training = 9.32%\n",
      "Training model (epoch = 6/30)\n",
      " - classification error rate for training = 10.48%\n",
      "Training model (epoch = 7/30)\n",
      " - classification error rate for training = 9.90%\n",
      "Training model (epoch = 8/30)\n",
      " - classification error rate for training = 9.50%\n",
      "Training model (epoch = 9/30)\n",
      " - classification error rate for training = 9.29%\n",
      "Training model (epoch = 10/30)\n",
      " - classification error rate for training = 16.91%\n",
      "Training model (epoch = 11/30)\n",
      " - classification error rate for training = 9.23%\n"
     ]
    },
    {
     "name": "stdout",
     "output_type": "stream",
     "text": [
      "Training model (epoch = 12/30)\n",
      " - classification error rate for training = 9.22%\n",
      "Training model (epoch = 13/30)\n",
      " - classification error rate for training = 9.59%\n",
      "Training model (epoch = 14/30)\n",
      " - classification error rate for training = 8.86%\n",
      "Training model (epoch = 15/30)\n",
      " - classification error rate for training = 35.88%\n",
      "Training model (epoch = 16/30)\n",
      " - classification error rate for training = 9.36%\n",
      "Training model (epoch = 17/30)\n",
      " - classification error rate for training = 8.82%\n",
      "Training model (epoch = 18/30)\n",
      " - classification error rate for training = 8.73%\n",
      "Training model (epoch = 19/30)\n",
      " - classification error rate for training = 10.37%\n",
      "Training model (epoch = 20/30)\n",
      " - classification error rate for training = 9.51%\n",
      "Training model (epoch = 21/30)\n",
      " - classification error rate for training = 24.34%\n",
      "Training model (epoch = 22/30)\n",
      " - classification error rate for training = 10.50%\n",
      "Training model (epoch = 23/30)\n",
      " - classification error rate for training = 8.44%\n",
      "Training model (epoch = 24/30)\n",
      " - classification error rate for training = 8.67%\n",
      "Training model (epoch = 25/30)\n",
      " - classification error rate for training = 8.81%\n",
      "Training model (epoch = 26/30)\n",
      " - classification error rate for training = 15.72%\n",
      "Training model (epoch = 27/30)\n",
      " - classification error rate for training = 12.03%\n",
      "Training model (epoch = 28/30)\n",
      " - classification error rate for training = 27.27%\n",
      "Training model (epoch = 29/30)\n",
      " - classification error rate for training = 11.20%\n",
      "Training model (epoch = 30/30)\n",
      " - classification error rate for training = 8.70%\n"
     ]
    }
   ],
   "source": [
    "#different step-size  \n",
    "NB_EPOCH = 30\n",
    "MINIBATCH_SIZE = 256\n",
    "eta_list =[0.01, 0.1, 1.0, 10.0]\n",
    "logloss_train_list = []\n",
    "error_train_list = []\n",
    "logloss_valid_list = []\n",
    "error_valid_list = []\n",
    "\n",
    "for eta in eta_list:\n",
    "    print(\"eta = {}\".format(eta))\n",
    "    W_, b_, logloss_train, error_train, logloss_valid, error_valid = train_nnet(train_set, valid_set, NB_EPOCH, MINIBATCH_SIZE, eta)\n",
    "    logloss_train_list.append(logloss_train)\n",
    "    error_train_list.append(error_train)\n",
    "    logloss_valid_list.append(logloss_valid)\n",
    "    error_valid_list.append(error_valid)"
   ]
  },
  {
   "cell_type": "code",
   "execution_count": 24,
   "metadata": {
    "colab": {},
    "colab_type": "code",
    "id": "LadSNtxsKWd7"
   },
   "outputs": [
    {
     "data": {
      "image/png": "[encoded data removed]",
      "text/plain": [
       "<Figure size 432x288 with 1 Axes>"
      ]
     },
     "metadata": {},
     "output_type": "display_data"
    },
    {
     "data": {
      "image/png": "[encoded data removed]",
      "text/plain": [
       "<Figure size 432x288 with 1 Axes>"
      ]
     },
     "metadata": {},
     "output_type": "display_data"
    }
   ],
   "source": [
    "#Log-loss and error rate for valide set\n",
    "for i in range(len(logloss_valid_list)):\n",
    "    plt.plot(logloss_valid_list[i], label=\"eta = \" + str(eta_list[i]))\n",
    "plt.title(\"Log-loss\")\n",
    "plt.legend()\n",
    "plt.show()\n",
    "\n",
    "for i in range(len(error_valid_list)):\n",
    "    plt.plot(error_valid_list[i], label=\"eta = \" + str(eta_list[i]))\n",
    "plt.title(\"Error rate\")\n",
    "plt.legend()\n",
    "plt.show()"
   ]
  },
  {
   "cell_type": "raw",
   "metadata": {},
   "source": [
    "Resume: Le meilleur resultat est envoiron 92%, avec eta=1, mini_batch_size=256. Pour les differents eta, les resutats sont differents, c'est mieux de chosir le eta entre 0,1 et 1, quand eta=10, l'apprentisage n'est pas stable, et quand eta =0,01, l'apprentisage est trop lent."
   ]
  }
 ],
 "metadata": {
  "colab": {
   "name": "TP1.ipynb",
   "provenance": [],
   "version": "0.3.2"
  },
  "kernelspec": {
   "display_name": "Python 2",
   "language": "python",
   "name": "python2"
  },
  "language_info": {
   "codemirror_mode": {
    "name": "ipython",
    "version": 2
   },
   "file_extension": ".py",
   "mimetype": "text/x-python",
   "name": "python",
   "nbconvert_exporter": "python",
   "pygments_lexer": "ipython2",
   "version": "2.7.15"
  }
 },
 "nbformat": 4,
 "nbformat_minor": 1
}
