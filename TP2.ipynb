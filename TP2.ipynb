{
 "cells": [
  {
   "cell_type": "markdown",
   "metadata": {
    "colab_type": "text",
    "id": "bOT3u0GZKWc8"
   },
   "source": [
    "# Réseau de neurones: les bases en numpy\n"
   ]
  },
  {
   "cell_type": "markdown",
   "metadata": {
    "colab_type": "text",
    "id": "Irgrskx6KWc-"
   },
   "source": [
    "Le but de ce TP1 est d'acquérir les bases nécessaires à la compréhension des réseaux de neurones à partir d'un modèle simple de type Softmax. La tâche d'apprentissage consiste à classifier les images (28 par 28 pixels) de la base MNIST (http://yann.lecun.com/exdb/mnist/) en 10 catégories représentant les chiffres 0-9.\n",
    "\n",
    "Le TP2 consistera à généraliser les concepts de ce TP1 à un réseau de neurones multi-couches."
   ]
  },
  {
   "cell_type": "markdown",
   "metadata": {
    "colab_type": "text",
    "id": "nlmi-culKWdA"
   },
   "source": [
    "## Téléchargement de la base d'entraînement"
   ]
  },
  {
   "cell_type": "code",
   "execution_count": 1,
   "metadata": {
    "colab": {},
    "colab_type": "code",
    "id": "B9Ekg9fkKWdD"
   },
   "outputs": [],
   "source": [
    "%matplotlib inline\n",
    "import os\n",
    "import numpy as np\n",
    "import matplotlib.pyplot as plt\n",
    "\n",
    "mnistfile=\"mnist.pkl.gz\"\n",
    "\n",
    "# If you need to download it : \n",
    "if(\"mnist.pkl.gz\" not in os.listdir(\".\")):\n",
    "    !wget http://deeplearning.net/data/mnist/mnist.pkl.gz"
   ]
  },
  {
   "cell_type": "markdown",
   "metadata": {
    "colab_type": "text",
    "id": "9Z209vjgKWdI"
   },
   "source": [
    "## Chargement de la base en mémoire"
   ]
  },
  {
   "cell_type": "code",
   "execution_count": 2,
   "metadata": {
    "colab": {
     "base_uri": "https://localhost:8080/",
     "height": 317
    },
    "colab_type": "code",
    "executionInfo": {
     "elapsed": 758,
     "status": "error",
     "timestamp": 1539027170049,
     "user": {
      "displayName": "Xihui Wang",
      "photoUrl": "",
      "userId": "09445164112052208872"
     },
     "user_tz": -120
    },
    "id": "mpsZNRC7KWdJ",
    "outputId": "62717275-e711-44e0-eafa-990e62d7a244"
   },
   "outputs": [],
   "source": [
    "import dataset_loader\n",
    "train_set, valid_set, test_set = dataset_loader.load_mnist(mnistfile)"
   ]
  },
  {
   "cell_type": "markdown",
   "metadata": {
    "colab_type": "text",
    "id": "6omnBvnBKWdM"
   },
   "source": [
    "Vous pouvez visualiser les différents caractères en changeant l'identifiant de l'image"
   ]
  },
  {
   "cell_type": "code",
   "execution_count": 3,
   "metadata": {
    "colab": {},
    "colab_type": "code",
    "id": "_vaeu6ApKWdN"
   },
   "outputs": [
    {
     "name": "stdout",
     "output_type": "stream",
     "text": [
      "label: 6\n"
     ]
    },
    {
     "data": {
      "image/png": "[encoded data removed]",
      "text/plain": [
       "<Figure size 432x288 with 1 Axes>"
      ]
     },
     "metadata": {},
     "output_type": "display_data"
    }
   ],
   "source": [
    "img_id = 900\n",
    "plt.imshow(train_set[0][img_id].reshape(28,28),cmap='Greys')\n",
    "print(\"label: \" + str(train_set[1][img_id]))"
   ]
  },
  {
   "cell_type": "markdown",
   "metadata": {
    "colab_type": "text",
    "id": "GNRQzPZ3KWdP"
   },
   "source": [
    "**Question:** Donner les caractéristiques de la base d'apprentissage train_set"
   ]
  },
  {
   "cell_type": "code",
   "execution_count": 4,
   "metadata": {
    "colab": {},
    "colab_type": "code",
    "id": "Agfwh-s8KWdQ"
   },
   "outputs": [],
   "source": [
    "def getDimDataset(train_set):\n",
    "    n_training =len(train_set[0])\n",
    "    n_feature = len(train_set[0][0])\n",
    "    n_label = len(set(train_set[1]))\n",
    "    return n_training, n_feature, n_label"
   ]
  },
  {
   "cell_type": "code",
   "execution_count": 5,
   "metadata": {
    "colab": {},
    "colab_type": "code",
    "id": "NeDu0nO6KWdT"
   },
   "outputs": [
    {
     "data": {
      "text/plain": [
       "(50000, 784, 10)"
      ]
     },
     "execution_count": 5,
     "metadata": {},
     "output_type": "execute_result"
    }
   ],
   "source": [
    "getDimDataset(train_set)"
   ]
  },
  {
   "cell_type": "markdown",
   "metadata": {
    "colab_type": "text",
    "id": "MvZIFXNNKWdV"
   },
   "source": [
    "## Création du modèle\n",
    "\n",
    "Nous allons d'abord créer une couche linéaire, soit une transformation linéaire. La vraie difficulté réside dans la manipulation de matrices de ne pas se mélanger dans les dimensions. \n",
    "\n",
    "Pour l'implémentation, nous allons considérer explicitement le terme de biais. Ainsi, une couche linéaire se définit comme la tranformation linéaire: \n",
    "$$\n",
    "\\mathbf{y} = \\mathbf{W}\\mathbf{x}+ \\mathbf{b}\n",
    "$$\n",
    "\n",
    "Notons *n_in* et *n_out* respectivement les dimensions de $\\mathbf{x}$ et $\\mathbf{y}$. \n",
    "\n",
    "**Questions:**\n",
    "- écrire les dimensions de W et b\n",
    "- Coder la fonction d'init. suivante, l'init. est aléatoire et gaussienne, comme dans le cours. La fonction retourne W et b. \n"
   ]
  },
  {
   "cell_type": "code",
   "execution_count": 6,
   "metadata": {
    "colab": {},
    "colab_type": "code",
    "id": "zaHamy9hKWdX"
   },
   "outputs": [],
   "source": [
    "def init(n_in,n_middle,n_out):\n",
    "    W1 = np.random.normal(0, 1/np.sqrt(n_in), (n_middle, n_in))\n",
    "    b1 = np.random.normal(0, 1/np.sqrt(n_in), (n_middle, 1))\n",
    "    W2 = np.random.normal(0, 1/np.sqrt(n_middle), (n_out, n_middle))\n",
    "    b2 = np.random.normal(0, 1/np.sqrt(n_middle), (n_out, 1))\n",
    "    return W1,b1,W2,b2"
   ]
  },
  {
   "cell_type": "markdown",
   "metadata": {
    "colab_type": "text",
    "id": "79A7J5vYKWdZ"
   },
   "source": [
    "**Test:** Même si cela ne sera pas redit, on vérifie toujours les dimensions de ce que l'on crée, et transforme. Dit autrement on fait des tests intermédiaires. En machine learning, comme en programmation, c'est incontournable. \n",
    "Pour cela créer, une couche de tailles d'entrée et de sortie égales à 5 et 3. \n"
   ]
  },
  {
   "cell_type": "code",
   "execution_count": 7,
   "metadata": {
    "colab": {},
    "colab_type": "code",
    "id": "Z4MGDedaKWda"
   },
   "outputs": [
    {
     "name": "stdout",
     "output_type": "stream",
     "text": [
      "[[ 0.92586009 -0.70253912  0.28593386 -0.29155168  0.0665486 ]\n",
      " [ 0.09209635 -0.26290422 -0.41293426 -1.12482344  0.11882804]\n",
      " [ 0.09649754 -0.20820942  0.80620521  0.7184444   0.50221395]\n",
      " [ 0.19720391  0.83943864 -0.07735883  0.10820608  0.57242282]]\n",
      "[[-0.72988539]\n",
      " [-0.05151742]\n",
      " [ 0.06460919]\n",
      " [ 0.08562294]]\n"
     ]
    }
   ],
   "source": [
    "W1, b1,W2,b2 = init(5,4, 3)\n",
    "print(W1)\n",
    "print(b1)"
   ]
  },
  {
   "cell_type": "markdown",
   "metadata": {
    "colab_type": "text",
    "id": "Whj07Lr5KWdc"
   },
   "source": [
    "**Question :** Donner les dimensions de W et b ainsi que le nombre total de paramètres du modèle"
   ]
  },
  {
   "cell_type": "code",
   "execution_count": 8,
   "metadata": {
    "colab": {},
    "colab_type": "code",
    "id": "GrvS_bs1KWdd"
   },
   "outputs": [],
   "source": [
    "def printInfo(W1,b1,W2,b2):\n",
    "    print(\"W1 dimensions: \" + str(W1.shape))\n",
    "    print(\"b1 dimensions: \" + str(b1.shape))\n",
    "    print(\"W2 dimensions: \" + str(W2.shape))\n",
    "    print(\"b2 dimensions: \" + str(b2.shape))\n",
    "    print(\"Number of parameters: \" + str(np.size(W1) + np.size(b1) + np.size(W2) + np.size(b2)))"
   ]
  },
  {
   "cell_type": "code",
   "execution_count": 9,
   "metadata": {},
   "outputs": [
    {
     "name": "stdout",
     "output_type": "stream",
     "text": [
      "W1 dimensions: (4, 5)\n",
      "b1 dimensions: (4, 1)\n",
      "W2 dimensions: (3, 4)\n",
      "b2 dimensions: (3, 1)\n",
      "Number of parameters: 39\n"
     ]
    }
   ],
   "source": [
    "printInfo(W1, b1, W2, b2)"
   ]
  },
  {
   "cell_type": "markdown",
   "metadata": {
    "colab_type": "text",
    "id": "euHVEX4iKWdf"
   },
   "source": [
    "**Question:** Implémenter la fonction forward tel que $$y_j = \\sum_{i \\rightarrow j} W_{ij} x_i + b_j$$ où $x_i$ est un pixel de l'image, $W_{ij}$ est la valeur associée à l'arête reliant les unités $i$ et $j$ et $b_j$ est le biais associé à l'unité $j$"
   ]
  },
  {
   "cell_type": "code",
   "execution_count": 10,
   "metadata": {},
   "outputs": [],
   "source": [
    "def relu(x):\n",
    "    s=np.where(x>0,x,0)\n",
    "    return s"
   ]
  },
  {
   "cell_type": "code",
   "execution_count": 11,
   "metadata": {},
   "outputs": [],
   "source": [
    "def grad_relu(x):\n",
    "    s=np.where(x>0,1,0)\n",
    "    return s"
   ]
  },
  {
   "cell_type": "code",
   "execution_count": 12,
   "metadata": {
    "colab": {},
    "colab_type": "code",
    "id": "emgTpnkOKWdf"
   },
   "outputs": [],
   "source": [
    "def forward(W,b,X):\n",
    "    \"\"\"\n",
    "        Perform the forward propagation\n",
    "        :param W: the weights (n_output x n_input)\n",
    "        :param b: the bias (n_output * 1)\n",
    "        :param X: the input (minibatch_size x n_input)\n",
    "        :type W: ndarray\n",
    "        :type B: ndarray\n",
    "        :type X: ndarray\n",
    "        :return: the transformed values (n_output x minibatch_size)\n",
    "        :rtype: ndarray\n",
    "    \"\"\"\n",
    "    return np.dot(W, X.T) + b"
   ]
  },
  {
   "cell_type": "markdown",
   "metadata": {
    "colab_type": "text",
    "id": "gITyvKlJKWdh"
   },
   "source": [
    "**Question:** Implémenter la fonction softmax $$ \\sigma_i = \\frac{\\exp{a_i}}{\\sum_k \\exp{a_k}}$$"
   ]
  },
  {
   "cell_type": "code",
   "execution_count": 13,
   "metadata": {
    "colab": {},
    "colab_type": "code",
    "id": "4RP7zNrrKWdh"
   },
   "outputs": [],
   "source": [
    "def softmax(z):\n",
    "    \"\"\"\n",
    "        Perform the softmax transformation to the pre-activation values\n",
    "        :param a: the pre-activation values\n",
    "        :type a: ndarray\n",
    "        :return: the activation values\n",
    "        :rtype: ndarray\n",
    "    \"\"\"\n",
    "    a=np.max(z)\n",
    "    #print(a)\n",
    "    s=0\n",
    "    for i in z:\n",
    "        s+=np.exp(i-a)\n",
    "    z = [np.exp(i-a)/s for i in z]\n",
    "    return np.array(z)"
   ]
  },
  {
   "cell_type": "markdown",
   "metadata": {
    "colab_type": "text",
    "id": "oeBggY-AKWdj"
   },
   "source": [
    "**Question:** Vérifier que votre implémentation de softmax soit numériquement stable "
   ]
  },
  {
   "cell_type": "code",
   "execution_count": 14,
   "metadata": {
    "colab": {},
    "colab_type": "code",
    "id": "6dj3H212KWdj"
   },
   "outputs": [
    {
     "name": "stdout",
     "output_type": "stream",
     "text": [
      "[1. 0. 0.]\n"
     ]
    }
   ],
   "source": [
    "# Example for testing the numerical stability of softmax\n",
    "# It should return [1., 0. ,0.], not [nan, 0., 0.]\n",
    "z = [10000,1,100]\n",
    "print(softmax(z))"
   ]
  },
  {
   "cell_type": "markdown",
   "metadata": {
    "colab_type": "text",
    "id": "xFXYu0gtKWdl"
   },
   "source": [
    "**Question:** Si le softmax s'avère instable, comment le rendre stable ? Proposer une implémentation stable du softmax. "
   ]
  },
  {
   "cell_type": "markdown",
   "metadata": {
    "colab_type": "text",
    "id": "4BKLEUkNKWdo"
   },
   "source": [
    "**Question:** Implémenter le calcul du gradient de l'erreur par rapport à $a_i$:\n",
    "$$\\delta a_i = \\sigma_i - 1_{i=l}$$\n",
    "où $l$ est l'étiquette associée à la donnée courante."
   ]
  },
  {
   "cell_type": "code",
   "execution_count": 15,
   "metadata": {
    "colab": {},
    "colab_type": "code",
    "id": "JNKTNt3gKWdp"
   },
   "outputs": [],
   "source": [
    "def gradient_out(out, one_hot_batch):\n",
    "    \"\"\"\n",
    "    compute the gradient w.r.t. the pre-activation values of the softmax z_i\n",
    "    :param out: the softmax values (n_output x minibatch_size)\n",
    "    :type out: ndarray\n",
    "    :param one_hot_batch: the one-hot representation of the labels (n_output x minibatch_size)\n",
    "    :type one_hot_batch: ndarray\n",
    "    :return: the gradient w.r.t. z (n_output x minibatch_size)\n",
    "    :rtype: ndarray\n",
    "    \"\"\"\n",
    "    return out - one_hot_batch"
   ]
  },
  {
   "cell_type": "markdown",
   "metadata": {
    "colab_type": "text",
    "id": "4-WxLD1nKWds"
   },
   "source": [
    "**Question:** Implémenter la fonction du calcul de gradient par rapport aux paramètres: $$\\delta W_{ij} = \\delta a_j x_i$$  $$\\delta b_{j} = \\delta a_j$$ où $\\delta W_{ij}$ est la composante du gradient associée à l'arête reliant les unités $i$ et $j$, $\\delta b_{j}$ est la composante du gradient associée au bias de l'unité $j$, $\\delta z_j$ est le gradient de l'erreur par rapport à l'unité $j$ et $x_i$ est la valeur d'activation de l'unité $i$."
   ]
  },
  {
   "cell_type": "code",
   "execution_count": 16,
   "metadata": {
    "colab": {},
    "colab_type": "code",
    "id": "hDB7Vc7nKWds"
   },
   "outputs": [],
   "source": [
    "def gradient(derror, X):\n",
    "    \"\"\"\n",
    "        Compute the gradient w.r.t. the parameters\n",
    "        :param derror: the gradient w.r.t. z (n_output x minibatch_size)\n",
    "        :param X: the input (minibatch_size x n_input)\n",
    "        :type derror: ndarray\n",
    "        :type minibatch: ndarray\n",
    "        :return: the gradient w.r.t. the parameters (n_output x n_input), (n_output, 1)\n",
    "        :rtype: ndarray, ndarray\n",
    "    \"\"\"\n",
    "    minibatch_size = X.shape[0]\n",
    "    n_out = derror.shape[0]\n",
    "    n_in = X.shape[1]\n",
    "    grad_w = np.zeros((n_out, n_in))\n",
    "    grad_b = np.zeros((n_out, 1))\n",
    "    \n",
    "    for i in range(minibatch_size):\n",
    "        grad_b += np.atleast_2d(derror[:, i]).T\n",
    "        grad_w += np.outer(derror[:, i], X[i, :])\n",
    "    \n",
    "    grad_b /= minibatch_size\n",
    "    grad_w /= minibatch_size\n",
    "\n",
    "    return grad_w,grad_b"
   ]
  },
  {
   "cell_type": "markdown",
   "metadata": {
    "colab_type": "text",
    "id": "hBSv8LIlKWdu"
   },
   "source": [
    "**Question:** Implémenter la fonction de mise à jour des paramètres $$\\theta = \\theta - \\eta \\delta \\theta$$ où $\\theta$ est un paramètre du modèle et $\\delta \\theta$ la composante du gradient associée à $\\theta$."
   ]
  },
  {
   "cell_type": "code",
   "execution_count": 17,
   "metadata": {
    "colab": {},
    "colab_type": "code",
    "id": "RnPLmd-iKWdv"
   },
   "outputs": [],
   "source": [
    "def update(eta, W, b, grad_w, grad_b):\n",
    "    \"\"\"\n",
    "        Update the parameters with an update rule\n",
    "        :param eta: the step-size\n",
    "        :param W: the weights\n",
    "        :param b: the bias\n",
    "        :param grad_w: the gradient w.r.t. the weights\n",
    "        :param grad_b: the gradient w.r.t. the bias\n",
    "        :type eta: float\n",
    "        :type W: ndarray\n",
    "        :type b: ndarray\n",
    "        :type grad_w: ndarray\n",
    "        :type grad_b: ndarray\n",
    "        :return: the updated parameters\n",
    "        :rtype: ndarray, ndarray\n",
    "    \"\"\"\n",
    "    W = W - eta * grad_w\n",
    "    b = b - eta * grad_b\n",
    "    return W, b"
   ]
  },
  {
   "cell_type": "markdown",
   "metadata": {
    "colab_type": "text",
    "id": "hzcMLu1KKWdx"
   },
   "source": [
    "## Algorithme d'apprentissage \n",
    "\n",
    "On a tout ce qu'il faut pour mettre en oeuvre l'apprentissage d'un modèle simple. Le modèle est simplement une couche neuronale de sortie, sans couche cachée. \n",
    "\n",
    "L'algorithme se déroule en 2 temps, tout d'abord la préparation: \n",
    "- init. du modèle\n",
    "- préparation des données et des variables permettant de stocker l'historique d'apprentissage\n",
    "- init. des paramètres de la SGD\n",
    "- définir le nombre d'époque comme une variable\n",
    "\n",
    "Puis vient la boucle d'apprentissage qui pour chaque époque effectue pour chaque exemple d'apprentissage : \n",
    "- inférence du modèle sur l'exemple d'apprentissage \n",
    "- calcul de la contribution de l'exemple à la  fonction objectif, et également au taux d'erreur de classification\n",
    "- Calcul du gradient de sortie\n",
    "- Mise à jour du modèle\n",
    "\n",
    "**Question:** Implémenter l'apprentissage du modèle"
   ]
  },
  {
   "cell_type": "code",
   "execution_count": 18,
   "metadata": {},
   "outputs": [],
   "source": [
    "def one_hot_labels(labels, n_labels):\n",
    "    one_hot=np.zeros((n_labels, labels.size))\n",
    "    one_hot[labels, np.arange(labels.size)]=1 # tres utile\n",
    "    return one_hot"
   ]
  },
  {
   "cell_type": "code",
   "execution_count": 19,
   "metadata": {},
   "outputs": [],
   "source": [
    "def error_rate(outputs, y):\n",
    "    n_labels = y.shape[0]\n",
    "    n_samples = y.shape[1]\n",
    "    p_y = np.zeros(y.shape)\n",
    "    p_y[np.argmax(outputs, axis=0), np.arange(n_samples)] = 1\n",
    "    n_correct = np.sum(p_y * y)\n",
    "    return 1 - n_correct / n_samples"
   ]
  },
  {
   "cell_type": "code",
   "execution_count": 20,
   "metadata": {},
   "outputs": [],
   "source": [
    "def log_loss(outputs, y):\n",
    "    return -np.sum(np.log(outputs)*y)/outputs.shape[1]"
   ]
  },
  {
   "cell_type": "code",
   "execution_count": 21,
   "metadata": {
    "colab": {},
    "colab_type": "code",
    "id": "2y1-MKzmKWdy"
   },
   "outputs": [],
   "source": [
    "def train_nnet(train_set, valid_set=[], nb_epoch=3, minibatch_size=128, eta=1):\n",
    "\n",
    "    n_training, n_feature, n_label = getDimDataset(train_set)\n",
    "    n_middle=20\n",
    "    W1,b1,W2,b2 = init(n_feature,n_middle,n_label)\n",
    "    iteration_counter = 0\n",
    "    logloss_train = []\n",
    "    error_train = []\n",
    "    logloss_valid = []\n",
    "    error_valid = []\n",
    "\n",
    "    for i_epoch in range(nb_epoch):\n",
    "        print(\"Training model (epoch = {}/{})\".format(i_epoch+1, nb_epoch))\n",
    "        a1=forward(W1,b1,train_set[0])\n",
    "        y1=relu(a1)\n",
    "        a2=forward(W2,b2,y1.T)\n",
    "        outputs_train = softmax(a2)\n",
    "        labels_train = one_hot_labels(train_set[1], 10)\n",
    "        logloss_train.append(log_loss(outputs_train, labels_train))\n",
    "        error_train.append(error_rate(outputs_train, labels_train))\n",
    "        print(\" - classification error rate for training = {:.2f}%\".format(error_rate(outputs_train, labels_train) * 100))\n",
    "        if valid_set:\n",
    "                va1=forward(W1,b1,valid_set[0])\n",
    "                vy1=relu(va1)\n",
    "                va2=forward(W2,b2,vy1.T)\n",
    "                outputs_valid = softmax(va2)\n",
    "                labels_valid = one_hot_labels(valid_set[1], 10)\n",
    "                logloss_valid.append(log_loss(outputs_valid, labels_valid))\n",
    "                error_valid.append(error_rate(outputs_valid, labels_valid))\n",
    "        \n",
    "        for i_batch in range(0, n_training, minibatch_size):\n",
    "            # update\n",
    "            iteration_counter += 1\n",
    "            batches_index = np.arange(i_batch, i_batch + minibatch_size) % n_training\n",
    "            X = train_set[0][batches_index, :]\n",
    "            y = train_set[1][batches_index]\n",
    "            y_one_hot = one_hot_labels(y, n_label)\n",
    "            a1=forward(W1,b1,X)\n",
    "            y1=relu(a1)\n",
    "            grad_y1=grad_relu(y1)\n",
    "            a2=forward(W2,b2,y1.T)\n",
    "            outputs=softmax(a2)\n",
    "            grad_sigma2 = gradient_out(outputs, y_one_hot)\n",
    "            grad_w2, grad_b2 = gradient(grad_sigma2, y1.T)\n",
    "            grad_sigma1=np.dot(grad_sigma2.T,W2).T*grad_y1\n",
    "            grad_w1, grad_b1 = gradient(grad_sigma1,X)\n",
    "            W2, b2 = update(eta, W2, b2, grad_w2, grad_b2)\n",
    "            W1, b1 = update(eta, W1, b1, grad_w1, grad_b1)\n",
    "\n",
    "    return W1, b1,W2,b2, logloss_train, error_train, logloss_valid, error_valid\n"
   ]
  },
  {
   "cell_type": "code",
   "execution_count": 22,
   "metadata": {},
   "outputs": [
    {
     "name": "stdout",
     "output_type": "stream",
     "text": [
      "Training model (epoch = 1/30)\n",
      " - classification error rate for training = 88.09%\n",
      "Training model (epoch = 2/30)\n",
      " - classification error rate for training = 11.48%\n",
      "Training model (epoch = 3/30)\n",
      " - classification error rate for training = 9.83%\n",
      "Training model (epoch = 4/30)\n",
      " - classification error rate for training = 9.11%\n",
      "Training model (epoch = 5/30)\n",
      " - classification error rate for training = 8.53%\n",
      "Training model (epoch = 6/30)\n",
      " - classification error rate for training = 8.11%\n",
      "Training model (epoch = 7/30)\n",
      " - classification error rate for training = 7.77%\n",
      "Training model (epoch = 8/30)\n",
      " - classification error rate for training = 7.45%\n",
      "Training model (epoch = 9/30)\n",
      " - classification error rate for training = 7.20%\n",
      "Training model (epoch = 10/30)\n",
      " - classification error rate for training = 6.89%\n",
      "Training model (epoch = 11/30)\n",
      " - classification error rate for training = 6.64%\n",
      "Training model (epoch = 12/30)\n",
      " - classification error rate for training = 6.40%\n",
      "Training model (epoch = 13/30)\n",
      " - classification error rate for training = 6.17%\n",
      "Training model (epoch = 14/30)\n",
      " - classification error rate for training = 6.00%\n",
      "Training model (epoch = 15/30)\n",
      " - classification error rate for training = 5.85%\n",
      "Training model (epoch = 16/30)\n",
      " - classification error rate for training = 5.69%\n",
      "Training model (epoch = 17/30)\n",
      " - classification error rate for training = 5.54%\n",
      "Training model (epoch = 18/30)\n",
      " - classification error rate for training = 5.42%\n",
      "Training model (epoch = 19/30)\n",
      " - classification error rate for training = 5.26%\n",
      "Training model (epoch = 20/30)\n",
      " - classification error rate for training = 5.17%\n",
      "Training model (epoch = 21/30)\n",
      " - classification error rate for training = 5.04%\n",
      "Training model (epoch = 22/30)\n",
      " - classification error rate for training = 4.94%\n",
      "Training model (epoch = 23/30)\n",
      " - classification error rate for training = 4.83%\n",
      "Training model (epoch = 24/30)\n",
      " - classification error rate for training = 4.72%\n",
      "Training model (epoch = 25/30)\n",
      " - classification error rate for training = 4.63%\n",
      "Training model (epoch = 26/30)\n",
      " - classification error rate for training = 4.51%\n",
      "Training model (epoch = 27/30)\n",
      " - classification error rate for training = 4.45%\n",
      "Training model (epoch = 28/30)\n",
      " - classification error rate for training = 4.36%\n",
      "Training model (epoch = 29/30)\n",
      " - classification error rate for training = 4.26%\n",
      "Training model (epoch = 30/30)\n",
      " - classification error rate for training = 4.17%\n"
     ]
    }
   ],
   "source": [
    "W1, b1, W2,b2,logloss_train, error_train, logloss_valid, error_valid = train_nnet(train_set, valid_set, 30, 256, 0.1)"
   ]
  },
  {
   "cell_type": "markdown",
   "metadata": {
    "colab_type": "text",
    "id": "iZEhLDilKWd0"
   },
   "source": [
    "**Question:** Si vous stockez correctement les informations, vous pouvez tracer l'évolution du taux d'erreur et de la fonction objectif au cours du temps. Cette étape est loin d'être illustrative, elle est indispensable pour vérifier si l'apprentissage se passe bien. \n",
    "\n"
   ]
  },
  {
   "cell_type": "markdown",
   "metadata": {
    "colab_type": "text",
    "id": "CwFi9mTCKWd4"
   },
   "source": [
    "**Question:** Inclure dans votre code, le calcul du taux d'erreur et de la fonction objectif sur les données de validation (cela doit faire l'objet du fonction à part). Représenter les évolutions également et les comparer avec celles observées sur les données d'apprentissage. "
   ]
  },
  {
   "cell_type": "code",
   "execution_count": 23,
   "metadata": {
    "colab": {},
    "colab_type": "code",
    "id": "sZNcuF2kKWd5"
   },
   "outputs": [
    {
     "data": {
      "image/png": "[encoded data removed]",
      "text/plain": [
       "<Figure size 432x288 with 1 Axes>"
      ]
     },
     "metadata": {},
     "output_type": "display_data"
    },
    {
     "data": {
      "image/png": "[encoded data removed]",
      "text/plain": [
       "<Figure size 432x288 with 1 Axes>"
      ]
     },
     "metadata": {},
     "output_type": "display_data"
    }
   ],
   "source": [
    "plt.plot(logloss_train, \"r\", label='train_set')\n",
    "plt.plot(logloss_valid, \"g\", label='valid_set')\n",
    "plt.title(\"Log-loss\")\n",
    "plt.legend()\n",
    "plt.ylim((0, 0.8))\n",
    "plt.show()\n",
    "\n",
    "plt.plot(error_train, \"r\", label='train_set')\n",
    "plt.plot(error_valid, \"g\", label='valid_set')\n",
    "plt.title(\"Error rate\")\n",
    "plt.legend()\n",
    "plt.ylim((0, 0.2))\n",
    "plt.show()"
   ]
  },
  {
   "cell_type": "code",
   "execution_count": 24,
   "metadata": {
    "colab": {},
    "colab_type": "code",
    "id": "sZNcuF2kKWd5"
   },
   "outputs": [
    {
     "name": "stdout",
     "output_type": "stream",
     "text": [
      "Test results:\n",
      "Log-loss = 0.165\n",
      "Error rate = 5.02%\n"
     ]
    }
   ],
   "source": [
    "a1=forward(W1,b1,test_set[0])\n",
    "y1=relu(a1)\n",
    "a2=forward(W2,b2,y1.T)\n",
    "outputs_test = softmax(a2)\n",
    "labels_test = one_hot_labels(test_set[1], 10)\n",
    "print(\"Test results:\")\n",
    "print(\"Log-loss = {:.3f}\".format(log_loss(outputs_test, labels_test)))\n",
    "print(\"Error rate = {:.2f}%\".format(error_rate(outputs_test, labels_test) * 100))"
   ]
  },
  {
   "cell_type": "markdown",
   "metadata": {
    "colab_type": "text",
    "id": "FzzIlowPKWd6"
   },
   "source": [
    "**Question:** Montrer, à l'aide d'une figure, l'effet du step-size (prendre $\\eta$=[0.01,0.1,1.0,10.]) sur les courbes d'apprentissage"
   ]
  },
  {
   "cell_type": "code",
   "execution_count": 26,
   "metadata": {
    "colab": {},
    "colab_type": "code",
    "id": "LadSNtxsKWd7"
   },
   "outputs": [
    {
     "name": "stdout",
     "output_type": "stream",
     "text": [
      "eta = 0.01\n",
      "Training model (epoch = 1/30)\n",
      " - classification error rate for training = 90.33%\n",
      "Training model (epoch = 2/30)\n",
      " - classification error rate for training = 41.87%\n",
      "Training model (epoch = 3/30)\n",
      " - classification error rate for training = 23.17%\n",
      "Training model (epoch = 4/30)\n",
      " - classification error rate for training = 17.98%\n",
      "Training model (epoch = 5/30)\n",
      " - classification error rate for training = 15.66%\n",
      "Training model (epoch = 6/30)\n",
      " - classification error rate for training = 14.17%\n",
      "Training model (epoch = 7/30)\n",
      " - classification error rate for training = 13.22%\n",
      "Training model (epoch = 8/30)\n",
      " - classification error rate for training = 12.58%\n",
      "Training model (epoch = 9/30)\n",
      " - classification error rate for training = 12.03%\n",
      "Training model (epoch = 10/30)\n",
      " - classification error rate for training = 11.59%\n",
      "Training model (epoch = 11/30)\n",
      " - classification error rate for training = 11.24%\n",
      "Training model (epoch = 12/30)\n",
      " - classification error rate for training = 10.99%\n",
      "Training model (epoch = 13/30)\n",
      " - classification error rate for training = 10.76%\n",
      "Training model (epoch = 14/30)\n",
      " - classification error rate for training = 10.56%\n",
      "Training model (epoch = 15/30)\n",
      " - classification error rate for training = 10.37%\n",
      "Training model (epoch = 16/30)\n",
      " - classification error rate for training = 10.20%\n",
      "Training model (epoch = 17/30)\n",
      " - classification error rate for training = 10.06%\n",
      "Training model (epoch = 18/30)\n",
      " - classification error rate for training = 9.93%\n",
      "Training model (epoch = 19/30)\n",
      " - classification error rate for training = 9.76%\n",
      "Training model (epoch = 20/30)\n",
      " - classification error rate for training = 9.63%\n",
      "Training model (epoch = 21/30)\n",
      " - classification error rate for training = 9.56%\n",
      "Training model (epoch = 22/30)\n",
      " - classification error rate for training = 9.48%\n",
      "Training model (epoch = 23/30)\n",
      " - classification error rate for training = 9.40%\n",
      "Training model (epoch = 24/30)\n",
      " - classification error rate for training = 9.32%\n",
      "Training model (epoch = 25/30)\n",
      " - classification error rate for training = 9.24%\n",
      "Training model (epoch = 26/30)\n",
      " - classification error rate for training = 9.16%\n",
      "Training model (epoch = 27/30)\n",
      " - classification error rate for training = 9.07%\n",
      "Training model (epoch = 28/30)\n",
      " - classification error rate for training = 9.02%\n",
      "Training model (epoch = 29/30)\n",
      " - classification error rate for training = 8.95%\n",
      "Training model (epoch = 30/30)\n",
      " - classification error rate for training = 8.88%\n",
      "eta = 0.1\n",
      "Training model (epoch = 1/30)\n",
      " - classification error rate for training = 92.34%\n",
      "Training model (epoch = 2/30)\n",
      " - classification error rate for training = 11.38%\n",
      "Training model (epoch = 3/30)\n",
      " - classification error rate for training = 9.71%\n",
      "Training model (epoch = 4/30)\n",
      " - classification error rate for training = 8.83%\n",
      "Training model (epoch = 5/30)\n",
      " - classification error rate for training = 8.14%\n",
      "Training model (epoch = 6/30)\n",
      " - classification error rate for training = 7.70%\n",
      "Training model (epoch = 7/30)\n",
      " - classification error rate for training = 7.25%\n",
      "Training model (epoch = 8/30)\n",
      " - classification error rate for training = 6.91%\n",
      "Training model (epoch = 9/30)\n",
      " - classification error rate for training = 6.61%\n",
      "Training model (epoch = 10/30)\n",
      " - classification error rate for training = 6.35%\n",
      "Training model (epoch = 11/30)\n",
      " - classification error rate for training = 6.11%\n",
      "Training model (epoch = 12/30)\n",
      " - classification error rate for training = 5.93%\n",
      "Training model (epoch = 13/30)\n",
      " - classification error rate for training = 5.77%\n",
      "Training model (epoch = 14/30)\n",
      " - classification error rate for training = 5.62%\n",
      "Training model (epoch = 15/30)\n",
      " - classification error rate for training = 5.46%\n",
      "Training model (epoch = 16/30)\n",
      " - classification error rate for training = 5.32%\n",
      "Training model (epoch = 17/30)\n",
      " - classification error rate for training = 5.20%\n",
      "Training model (epoch = 18/30)\n",
      " - classification error rate for training = 5.04%\n",
      "Training model (epoch = 19/30)\n",
      " - classification error rate for training = 4.91%\n",
      "Training model (epoch = 20/30)\n",
      " - classification error rate for training = 4.79%\n",
      "Training model (epoch = 21/30)\n",
      " - classification error rate for training = 4.69%\n",
      "Training model (epoch = 22/30)\n",
      " - classification error rate for training = 4.60%\n",
      "Training model (epoch = 23/30)\n",
      " - classification error rate for training = 4.53%\n",
      "Training model (epoch = 24/30)\n",
      " - classification error rate for training = 4.44%\n",
      "Training model (epoch = 25/30)\n",
      " - classification error rate for training = 4.34%\n",
      "Training model (epoch = 26/30)\n",
      " - classification error rate for training = 4.27%\n",
      "Training model (epoch = 27/30)\n",
      " - classification error rate for training = 4.20%\n",
      "Training model (epoch = 28/30)\n",
      " - classification error rate for training = 4.14%\n",
      "Training model (epoch = 29/30)\n",
      " - classification error rate for training = 4.09%\n",
      "Training model (epoch = 30/30)\n",
      " - classification error rate for training = 3.99%\n",
      "eta = 1.0\n",
      "Training model (epoch = 1/30)\n",
      " - classification error rate for training = 88.40%\n",
      "Training model (epoch = 2/30)\n",
      " - classification error rate for training = 14.21%\n",
      "Training model (epoch = 3/30)\n",
      " - classification error rate for training = 10.89%\n",
      "Training model (epoch = 4/30)\n",
      " - classification error rate for training = 7.80%\n",
      "Training model (epoch = 5/30)\n",
      " - classification error rate for training = 7.44%\n",
      "Training model (epoch = 6/30)\n",
      " - classification error rate for training = 7.08%\n",
      "Training model (epoch = 7/30)\n",
      " - classification error rate for training = 6.68%\n",
      "Training model (epoch = 8/30)\n",
      " - classification error rate for training = 6.47%\n",
      "Training model (epoch = 9/30)\n",
      " - classification error rate for training = 6.28%\n",
      "Training model (epoch = 10/30)\n",
      " - classification error rate for training = 6.17%\n",
      "Training model (epoch = 11/30)\n",
      " - classification error rate for training = 6.04%\n",
      "Training model (epoch = 12/30)\n",
      " - classification error rate for training = 5.75%\n",
      "Training model (epoch = 13/30)\n",
      " - classification error rate for training = 5.72%\n",
      "Training model (epoch = 14/30)\n",
      " - classification error rate for training = 5.58%\n",
      "Training model (epoch = 15/30)\n",
      " - classification error rate for training = 5.42%\n",
      "Training model (epoch = 16/30)\n",
      " - classification error rate for training = 5.29%\n",
      "Training model (epoch = 17/30)\n",
      " - classification error rate for training = 5.22%\n",
      "Training model (epoch = 18/30)\n",
      " - classification error rate for training = 5.09%\n",
      "Training model (epoch = 19/30)\n",
      " - classification error rate for training = 5.07%\n",
      "Training model (epoch = 20/30)\n",
      " - classification error rate for training = 5.09%\n",
      "Training model (epoch = 21/30)\n",
      " - classification error rate for training = 5.05%\n",
      "Training model (epoch = 22/30)\n",
      " - classification error rate for training = 4.95%\n",
      "Training model (epoch = 23/30)\n",
      " - classification error rate for training = 4.89%\n",
      "Training model (epoch = 24/30)\n",
      " - classification error rate for training = 4.92%\n",
      "Training model (epoch = 25/30)\n",
      " - classification error rate for training = 4.92%\n",
      "Training model (epoch = 26/30)\n",
      " - classification error rate for training = 4.81%\n",
      "Training model (epoch = 27/30)\n",
      " - classification error rate for training = 4.77%\n",
      "Training model (epoch = 28/30)\n",
      " - classification error rate for training = 4.76%\n",
      "Training model (epoch = 29/30)\n",
      " - classification error rate for training = 4.80%\n",
      "Training model (epoch = 30/30)\n",
      " - classification error rate for training = 4.73%\n",
      "eta = 10.0\n",
      "Training model (epoch = 1/30)\n",
      " - classification error rate for training = 93.94%\n"
     ]
    },
    {
     "name": "stderr",
     "output_type": "stream",
     "text": [
      "/home/gjx/anaconda2/lib/python2.7/site-packages/ipykernel_launcher.py:14: RuntimeWarning: invalid value encountered in divide\n",
      "  \n",
      "/home/gjx/anaconda2/lib/python2.7/site-packages/ipykernel_launcher.py:2: RuntimeWarning: invalid value encountered in greater\n",
      "  \n"
     ]
    },
    {
     "name": "stdout",
     "output_type": "stream",
     "text": [
      "Training model (epoch = 2/30)\n",
      " - classification error rate for training = 90.14%\n",
      "Training model (epoch = 3/30)\n",
      " - classification error rate for training = 90.14%\n",
      "Training model (epoch = 4/30)\n",
      " - classification error rate for training = 90.14%\n",
      "Training model (epoch = 5/30)\n",
      " - classification error rate for training = 90.14%\n",
      "Training model (epoch = 6/30)\n",
      " - classification error rate for training = 90.14%\n",
      "Training model (epoch = 7/30)\n",
      " - classification error rate for training = 90.14%\n",
      "Training model (epoch = 8/30)\n",
      " - classification error rate for training = 90.14%\n",
      "Training model (epoch = 9/30)\n",
      " - classification error rate for training = 90.14%\n",
      "Training model (epoch = 10/30)\n",
      " - classification error rate for training = 90.14%\n",
      "Training model (epoch = 11/30)\n",
      " - classification error rate for training = 90.14%\n",
      "Training model (epoch = 12/30)\n",
      " - classification error rate for training = 90.14%\n",
      "Training model (epoch = 13/30)\n",
      " - classification error rate for training = 90.14%\n",
      "Training model (epoch = 14/30)\n",
      " - classification error rate for training = 90.14%\n",
      "Training model (epoch = 15/30)\n",
      " - classification error rate for training = 90.14%\n",
      "Training model (epoch = 16/30)\n",
      " - classification error rate for training = 90.14%\n",
      "Training model (epoch = 17/30)\n",
      " - classification error rate for training = 90.14%\n",
      "Training model (epoch = 18/30)\n",
      " - classification error rate for training = 90.14%\n",
      "Training model (epoch = 19/30)\n",
      " - classification error rate for training = 90.14%\n",
      "Training model (epoch = 20/30)\n",
      " - classification error rate for training = 90.14%\n",
      "Training model (epoch = 21/30)\n",
      " - classification error rate for training = 90.14%\n",
      "Training model (epoch = 22/30)\n",
      " - classification error rate for training = 90.14%\n",
      "Training model (epoch = 23/30)\n",
      " - classification error rate for training = 90.14%\n",
      "Training model (epoch = 24/30)\n",
      " - classification error rate for training = 90.14%\n",
      "Training model (epoch = 25/30)\n",
      " - classification error rate for training = 90.14%\n",
      "Training model (epoch = 26/30)\n",
      " - classification error rate for training = 90.14%\n",
      "Training model (epoch = 27/30)\n",
      " - classification error rate for training = 90.14%\n",
      "Training model (epoch = 28/30)\n",
      " - classification error rate for training = 90.14%\n",
      "Training model (epoch = 29/30)\n",
      " - classification error rate for training = 90.14%\n",
      "Training model (epoch = 30/30)\n",
      " - classification error rate for training = 90.14%\n"
     ]
    }
   ],
   "source": [
    "#different step-size  \n",
    "NB_EPOCH = 30\n",
    "MINIBATCH_SIZE = 256\n",
    "eta_list =[0.01, 0.1, 1.0, 10.0]\n",
    "logloss_train_list = []\n",
    "error_train_list = []\n",
    "logloss_valid_list = []\n",
    "error_valid_list = []\n",
    "\n",
    "for eta in eta_list:\n",
    "    print(\"eta = {}\".format(eta))\n",
    "    W1_, b1_,W2_,b2_, logloss_train, error_train, logloss_valid, error_valid = train_nnet(train_set, valid_set, NB_EPOCH, MINIBATCH_SIZE, eta)\n",
    "    logloss_train_list.append(logloss_train)\n",
    "    error_train_list.append(error_train)\n",
    "    logloss_valid_list.append(logloss_valid)\n",
    "    error_valid_list.append(error_valid)"
   ]
  },
  {
   "cell_type": "code",
   "execution_count": 27,
   "metadata": {
    "colab": {},
    "colab_type": "code",
    "id": "LadSNtxsKWd7"
   },
   "outputs": [
    {
     "data": {
      "image/png": "[encoded data removed]",
      "text/plain": [
       "<Figure size 432x288 with 1 Axes>"
      ]
     },
     "metadata": {},
     "output_type": "display_data"
    },
    {
     "data": {
      "image/png": "[encoded data removed]",
      "text/plain": [
       "<Figure size 432x288 with 1 Axes>"
      ]
     },
     "metadata": {},
     "output_type": "display_data"
    }
   ],
   "source": [
    "#Log-loss and error rate for valide set\n",
    "for i in range(len(logloss_valid_list)):\n",
    "    plt.plot(logloss_valid_list[i], label=\"eta = \" + str(eta_list[i]))\n",
    "plt.title(\"Log-loss\")\n",
    "plt.legend()\n",
    "plt.show()\n",
    "\n",
    "for i in range(len(error_valid_list)):\n",
    "    plt.plot(error_valid_list[i], label=\"eta = \" + str(eta_list[i]))\n",
    "plt.title(\"Error rate\")\n",
    "plt.legend()\n",
    "plt.show()"
   ]
  },
  {
   "cell_type": "raw",
   "metadata": {},
   "source": [
    "Resume: Le meilleur resultat est envoiron 95%, avec eta=0,1, mini_batch_size=256. Pour les differents eta, les resutats sont differents, c'est mieux de chosir le eta entre 0,01 et 0,1, quand eta=1,10, l'apprentisage n'est pas bon."
   ]
  }
 ],
 "metadata": {
  "colab": {
   "name": "TP1.ipynb",
   "provenance": [],
   "version": "0.3.2"
  },
  "kernelspec": {
   "display_name": "Python 2",
   "language": "python",
   "name": "python2"
  },
  "language_info": {
   "codemirror_mode": {
    "name": "ipython",
    "version": 2
   },
   "file_extension": ".py",
   "mimetype": "text/x-python",
   "name": "python",
   "nbconvert_exporter": "python",
   "pygments_lexer": "ipython2",
   "version": "2.7.15"
  }
 },
 "nbformat": 4,
 "nbformat_minor": 1
}
